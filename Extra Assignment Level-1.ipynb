{
 "cells": [
  {
   "cell_type": "code",
   "execution_count": 1,
   "metadata": {},
   "outputs": [
    {
     "name": "stdout",
     "output_type": "stream",
     "text": [
      "HOPE AI\n"
     ]
    }
   ],
   "source": [
    "print(\"HOPE AI\")"
   ]
  },
  {
   "cell_type": "code",
   "execution_count": 2,
   "metadata": {},
   "outputs": [
    {
     "name": "stdout",
     "output_type": "stream",
     "text": [
      "Enter your institute name?anu\n",
      "Enter your institute name?: anu\n"
     ]
    }
   ],
   "source": [
    "Name =input(\"Enter your institute name?\" )\n",
    "print(\"Enter your institute name?:\" ,Name)"
   ]
  },
  {
   "cell_type": "code",
   "execution_count": 3,
   "metadata": {},
   "outputs": [
    {
     "name": "stdout",
     "output_type": "stream",
     "text": [
      "Enter your nameanu\n",
      "Enter your age34\n",
      "Enter your school nameerty\n",
      "Enter your degree\n",
      "Enter your name: anu\n",
      "Enter your age: 34\n",
      "Enter your school name: erty\n",
      "Enter your degree: \n"
     ]
    }
   ],
   "source": [
    "Name =input(\"Enter your name\" )\n",
    "Age =input(\"Enter your age\" )\n",
    "Schoolname =input(\"Enter your school name\" )\n",
    "Degree =input(\"Enter your degree\" )\n",
    "print(\"Enter your name:\" ,Name)\n",
    "print(\"Enter your age:\" ,Age)\n",
    "print(\"Enter your school name:\" ,Schoolname)\n",
    "print(\"Enter your degree:\" ,Degree)"
   ]
  },
  {
   "cell_type": "code",
   "execution_count": 4,
   "metadata": {},
   "outputs": [
    {
     "name": "stdout",
     "output_type": "stream",
     "text": [
      "2\n",
      "3\n",
      "a: 2\n",
      "b: 3\n",
      "add= 5\n"
     ]
    }
   ],
   "source": [
    "a= int(input())\n",
    "b= int(input())\n",
    "print(\"a:\",a)\n",
    "print(\"b:\",b)\n",
    "c=a+b\n",
    "print(\"add=\",c)"
   ]
  },
  {
   "cell_type": "code",
   "execution_count": 5,
   "metadata": {},
   "outputs": [
    {
     "name": "stdout",
     "output_type": "stream",
     "text": [
      "3\n",
      "2\n",
      "a: 3\n",
      "b: 2\n",
      "Sub= 1\n"
     ]
    }
   ],
   "source": [
    "a= int(input())\n",
    "b= int(input())\n",
    "print(\"a:\",a)\n",
    "print(\"b:\",b)\n",
    "c=a-b\n",
    "print(\"Sub=\",c)"
   ]
  },
  {
   "cell_type": "code",
   "execution_count": 6,
   "metadata": {},
   "outputs": [
    {
     "name": "stdout",
     "output_type": "stream",
     "text": [
      "4\n",
      "5\n",
      "a: 4\n",
      "b: 5\n",
      "Mul= 20\n"
     ]
    }
   ],
   "source": [
    "a= int(input())\n",
    "b= int(input())\n",
    "print(\"a:\",a)\n",
    "print(\"b:\",b)\n",
    "c=a*b\n",
    "print(\"Mul=\",c)"
   ]
  },
  {
   "cell_type": "code",
   "execution_count": 7,
   "metadata": {},
   "outputs": [
    {
     "name": "stdout",
     "output_type": "stream",
     "text": [
      "4\n",
      "3\n",
      "a: 4\n",
      "b: 3\n",
      "Float Div = 1.33\n"
     ]
    }
   ],
   "source": [
    "a= int(input())\n",
    "b= int(input())\n",
    "print(\"a:\",a)\n",
    "print(\"b:\",b)\n",
    "c=a/b\n",
    "print(f'Float Div = {c:.2f}')"
   ]
  },
  {
   "cell_type": "code",
   "execution_count": 8,
   "metadata": {},
   "outputs": [
    {
     "name": "stdout",
     "output_type": "stream",
     "text": [
      "4\n",
      "2\n",
      "a: 4\n",
      "b: 2\n",
      "Floor Div = 2\n"
     ]
    }
   ],
   "source": [
    "a= int(input())\n",
    "b= int(input())\n",
    "print(\"a:\",a)\n",
    "print(\"b:\",b)\n",
    "c=a//b\n",
    "print(\"Floor Div =\", c)"
   ]
  },
  {
   "cell_type": "code",
   "execution_count": 9,
   "metadata": {},
   "outputs": [
    {
     "name": "stdout",
     "output_type": "stream",
     "text": [
      "4\n",
      "2\n",
      "a: 4\n",
      "b: 2\n",
      "Modulo = 0\n"
     ]
    }
   ],
   "source": [
    "a= int(input())\n",
    "b= int(input())\n",
    "print(\"a:\",a)\n",
    "print(\"b:\",b)\n",
    "c=a%b\n",
    "print(\"Modulo =\", c)"
   ]
  },
  {
   "cell_type": "code",
   "execution_count": 10,
   "metadata": {},
   "outputs": [
    {
     "name": "stdout",
     "output_type": "stream",
     "text": [
      "3\n",
      "4\n",
      "a: 3\n",
      "b: 4\n",
      "Power = 81\n"
     ]
    }
   ],
   "source": [
    "a= int(input())\n",
    "b= int(input())\n",
    "print(\"a:\",a)\n",
    "print(\"b:\",b)\n",
    "c=pow(a,b)\n",
    "print(\"Power =\", c)"
   ]
  },
  {
   "cell_type": "code",
   "execution_count": null,
   "metadata": {},
   "outputs": [],
   "source": []
  }
 ],
 "metadata": {
  "kernelspec": {
   "display_name": "Python 3",
   "language": "python",
   "name": "python3"
  },
  "language_info": {
   "codemirror_mode": {
    "name": "ipython",
    "version": 3
   },
   "file_extension": ".py",
   "mimetype": "text/x-python",
   "name": "python",
   "nbconvert_exporter": "python",
   "pygments_lexer": "ipython3",
   "version": "3.7.4"
  }
 },
 "nbformat": 4,
 "nbformat_minor": 2
}
