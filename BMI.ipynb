{
 "cells": [
  {
   "cell_type": "code",
   "execution_count": 3,
   "metadata": {},
   "outputs": [
    {
     "name": "stdout",
     "output_type": "stream",
     "text": [
      "Enter the weight in kg65\n",
      "Enter the height in cm170\n",
      "1.7\n",
      "2.8899999999999997\n",
      "22.49134948096886\n",
      "Enter the BMI Index22.49\n",
      "Healthy\n"
     ]
    }
   ],
   "source": [
    "weight= int(input(\"Enter the weight in kg\" ))\n",
    "height =int(input(\"Enter the height in cm\" ))\n",
    "height = height/100\n",
    "print(height)\n",
    "height1 = (height*height)\n",
    "print(height1)\n",
    "BMI = weight / (height*height)\n",
    "print(BMI)\n",
    "BMIINDEX = float(input(\"Enter the BMI Index\" ))\n",
    "if (BMIINDEX<18):\n",
    "    print(\"Underweight\")\n",
    "elif(BMIINDEX>18.5 and BMIINDEX<24.9):\n",
    "    print(\"Healthy\")\n",
    "elif(BMIINDEX>25 and BMIINDEX<29.9):\n",
    "    print(\"Over weight\")\n",
    "elif (BMIINDEX>30):\n",
    "    print(\"Very overweight\")\n"
   ]
  },
  {
   "cell_type": "code",
   "execution_count": null,
   "metadata": {},
   "outputs": [],
   "source": []
  }
 ],
 "metadata": {
  "kernelspec": {
   "display_name": "Python 3",
   "language": "python",
   "name": "python3"
  },
  "language_info": {
   "codemirror_mode": {
    "name": "ipython",
    "version": 3
   },
   "file_extension": ".py",
   "mimetype": "text/x-python",
   "name": "python",
   "nbconvert_exporter": "python",
   "pygments_lexer": "ipython3",
   "version": "3.7.4"
  }
 },
 "nbformat": 4,
 "nbformat_minor": 2
}
