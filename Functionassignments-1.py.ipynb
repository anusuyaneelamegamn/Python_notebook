{
 "cells": [
  {
   "cell_type": "code",
   "execution_count": 1,
   "metadata": {},
   "outputs": [
    {
     "name": "stdout",
     "output_type": "stream",
     "text": [
      "Your Age:34\n",
      "Your Gender:Male\n",
      "Not Eligible\n"
     ]
    }
   ],
   "source": [
    "def Eligible():\n",
    "    n = int(input(\"Your Age:\" ))\n",
    "    m = input(\"Your Gender:\" )\n",
    "\n",
    "    if(n>18):\n",
    "        print(\"Not Eligible\")\n",
    "    else:\n",
    "        print(\"Eligible\")\n",
    "Eligible()"
   ]
  },
  {
   "cell_type": "code",
   "execution_count": 3,
   "metadata": {},
   "outputs": [
    {
     "name": "stdout",
     "output_type": "stream",
     "text": [
      "Subject1 marks23\n",
      "Subject2 marks44\n",
      "Subject3 marks22\n",
      "Subject4 marks45\n",
      "Subject5 marks34\n",
      "Percentage 33.6\n"
     ]
    }
   ],
   "source": [
    "def percentage():\n",
    "    sub1=int(input(\"Subject1 marks\" ))\n",
    "    sub2=int(input(\"Subject2 marks\" ))\n",
    "    sub3=int(input(\"Subject3 marks\" ))\n",
    "    sub4=int(input(\"Subject4 marks\" ))\n",
    "    sub5=int(input(\"Subject5 marks\" ))\n",
    "    Total = sub1+sub2+sub3+sub4+sub5\n",
    "    Percentage = (Total/5)\n",
    "    print(\"Percentage\", Percentage)\n",
    "percentage()"
   ]
  },
  {
   "cell_type": "markdown",
   "metadata": {},
   "source": [
    "def trianlgearea():\n",
    "    Height = int(input(\"Height:\" ))\n",
    "    Breadth = int(input(\"Breadth:\" ))\n",
    "    Area=(Height*Breadth)/2\n",
    "    print(f'Area of Traingle: {Area:.1f}')\n",
    "    Height1 = int(input(\"Height:\" ))\n",
    "    Height2 = int(input(\"Height:\" ))\n",
    "    Breadth1 = int(input(\"Breadth:\" ))\n",
    "    Area1=Height1+Height2+Breadth\n",
    "    print(\"Perimeter of Triangle:\", Area1)\n",
    "trianlgearea()"
   ]
  },
  {
   "cell_type": "code",
   "execution_count": 4,
   "metadata": {},
   "outputs": [
    {
     "name": "stdout",
     "output_type": "stream",
     "text": [
      "Height:34\n",
      "Breadth:45\n",
      "Area of Traingle: 765.0\n",
      "Height:2\n",
      "Height:4\n",
      "Breadth:5\n",
      "Perimeter of Triangle: 51\n"
     ]
    }
   ],
   "source": [
    "def area():\n",
    "    Height = int(input(\"Height:\" ))\n",
    "    Breadth = int(input(\"Breadth:\" ))\n",
    "    Area=(Height*Breadth)/2\n",
    "    print(f'Area of Traingle: {Area:.1f}')\n",
    "\n",
    "    Height1 = int(input(\"Height:\" ))\n",
    "    Height2 = int(input(\"Height:\" ))\n",
    "    Breadth1 = int(input(\"Breadth:\" ))\n",
    "    Area1=Height1+Height2+Breadth\n",
    "    print(\"Perimeter of Triangle:\", Area1)\n",
    "\n",
    "area()"
   ]
  },
  {
   "cell_type": "code",
   "execution_count": null,
   "metadata": {},
   "outputs": [],
   "source": []
  }
 ],
 "metadata": {
  "kernelspec": {
   "display_name": "Python 3",
   "language": "python",
   "name": "python3"
  },
  "language_info": {
   "codemirror_mode": {
    "name": "ipython",
    "version": 3
   },
   "file_extension": ".py",
   "mimetype": "text/x-python",
   "name": "python",
   "nbconvert_exporter": "python",
   "pygments_lexer": "ipython3",
   "version": "3.7.4"
  }
 },
 "nbformat": 4,
 "nbformat_minor": 2
}
