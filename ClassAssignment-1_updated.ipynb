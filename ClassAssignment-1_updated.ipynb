{
 "cells": [
  {
   "cell_type": "code",
   "execution_count": 1,
   "metadata": {},
   "outputs": [
    {
     "name": "stdout",
     "output_type": "stream",
     "text": [
      "Sub-fields in AI are: \n",
      " Machine Learning \n",
      " Neural Networks \n",
      " Vision \n",
      " Robotics \n",
      " Speech Processing \n",
      " Natural Language Processing \n",
      "\n",
      "Enter a number4\n",
      "4 is a Even number\n",
      "Your Age:23\n",
      "Your Gender:male\n",
      "Not Eligible\n",
      "Subject1 marks23\n",
      "Subject2 marks23\n",
      "Subject3 marks34\n",
      "Subject4 marks54\n",
      "Subject5 marks45\n",
      "Percentage 35.8\n",
      "Height:3\n",
      "Breadth:4\n",
      "Area of Traingle: 6.0\n",
      "Height:5\n",
      "Height:4\n",
      "Breadth:4\n",
      "Perimeter of Triangle: 13\n"
     ]
    }
   ],
   "source": [
    "from ClassAssignments import SubfieldsInAI\n",
    "\n",
    "SubfieldsInAI.Subfields()\n",
    "SubfieldsInAI.OddEven()\n",
    "SubfieldsInAI.Eligible()\n",
    "SubfieldsInAI.percentage()\n",
    "SubfieldsInAI.triangle()\n"
   ]
  },
  {
   "cell_type": "code",
   "execution_count": null,
   "metadata": {},
   "outputs": [],
   "source": []
  }
 ],
 "metadata": {
  "kernelspec": {
   "display_name": "Python 3",
   "language": "python",
   "name": "python3"
  },
  "language_info": {
   "codemirror_mode": {
    "name": "ipython",
    "version": 3
   },
   "file_extension": ".py",
   "mimetype": "text/x-python",
   "name": "python",
   "nbconvert_exporter": "python",
   "pygments_lexer": "ipython3",
   "version": "3.7.4"
  }
 },
 "nbformat": 4,
 "nbformat_minor": 2
}
