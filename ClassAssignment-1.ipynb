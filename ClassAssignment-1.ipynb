{
 "cells": [
  {
   "cell_type": "code",
   "execution_count": 4,
   "metadata": {},
   "outputs": [
    {
     "name": "stdout",
     "output_type": "stream",
     "text": [
      "Sub-fields in AI are: \n",
      " Machine Learning \n",
      " Neural Networks \n",
      " Vision \n",
      " Robotics \n",
      " Speech Processing \n",
      " Natural Language Processing \n",
      "\n",
      "Enter a number4\n",
      "4 is a Even number\n",
      "Your Age:34\n",
      "Your Gender:Female\n",
      "Not Eligible\n",
      "Subject1 marks23\n",
      "Subject2 marks32\n",
      "Subject3 marks45\n",
      "Subject4 marks657\n",
      "Subject5 marks5\n",
      "Percentage 152.4\n",
      "Height:34\n",
      "Breadth:23\n",
      "Area of Traingle: 391.0\n",
      "Height:12\n",
      "Height:23\n",
      "Breadth:12\n",
      "Perimeter of Triangle: 58\n"
     ]
    }
   ],
   "source": [
    "from ClassAssignments import SubfieldsInAI\n",
    "\n",
    "SubfieldsInAI.Subfields()\n",
    "SubfieldsInAI.OddEven()\n",
    "SubfieldsInAI.Eligible()\n",
    "SubfieldsInAI.percentage()\n",
    "SubfieldsInAI.triangle()\n"
   ]
  },
  {
   "cell_type": "code",
   "execution_count": 4,
   "metadata": {},
   "outputs": [
    {
     "ename": "NameError",
     "evalue": "name 'SubfieldsInAI' is not defined",
     "output_type": "error",
     "traceback": [
      "\u001b[1;31m---------------------------------------------------------------------------\u001b[0m",
      "\u001b[1;31mNameError\u001b[0m                                 Traceback (most recent call last)",
      "\u001b[1;32m<ipython-input-4-0be92ea517a1>\u001b[0m in \u001b[0;36m<module>\u001b[1;34m\u001b[0m\n\u001b[1;32m----> 1\u001b[1;33m \u001b[0mSubfieldsInAI\u001b[0m\u001b[1;33m.\u001b[0m\u001b[0mSubfields\u001b[0m\u001b[1;33m(\u001b[0m\u001b[1;33m)\u001b[0m\u001b[1;33m\u001b[0m\u001b[1;33m\u001b[0m\u001b[0m\n\u001b[0m",
      "\u001b[1;31mNameError\u001b[0m: name 'SubfieldsInAI' is not defined"
     ]
    }
   ],
   "source": [
    "SubfieldsInAI.Subfields()\n"
   ]
  },
  {
   "cell_type": "code",
   "execution_count": null,
   "metadata": {},
   "outputs": [],
   "source": []
  }
 ],
 "metadata": {
  "kernelspec": {
   "display_name": "Python 3",
   "language": "python",
   "name": "python3"
  },
  "language_info": {
   "codemirror_mode": {
    "name": "ipython",
    "version": 3
   },
   "file_extension": ".py",
   "mimetype": "text/x-python",
   "name": "python",
   "nbconvert_exporter": "python",
   "pygments_lexer": "ipython3",
   "version": "3.7.4"
  }
 },
 "nbformat": 4,
 "nbformat_minor": 2
}
